{
 "cells": [
  {
   "cell_type": "code",
   "execution_count": 1,
   "id": "35cc2582",
   "metadata": {},
   "outputs": [
    {
     "name": "stdout",
     "output_type": "stream",
     "text": [
      "Welcome to the Guess the Number Game!\n",
      "I am thinking of a number between 1 and 200.\n",
      "\n",
      "Enter your guess: 26\n",
      "Too low! Try again.\n",
      "\n",
      "Enter your guess: 100\n",
      "Too high! Try again.\n",
      "\n",
      "Enter your guess: 56\n",
      "Too high! Try again.\n",
      "\n",
      "Enter your guess: 34\n",
      "Too low! Try again.\n",
      "\n",
      "Enter your guess: 45\n",
      "Too high! Try again.\n",
      "\n",
      "Enter your guess: 39\n",
      "Too low! Try again.\n",
      "\n",
      "Enter your guess: 41\n",
      "Too low! Try again.\n",
      "\n",
      "Enter your guess: 44\n",
      "Too high! Try again.\n",
      "\n",
      "Enter your guess: 43\n",
      "Too high! Try again.\n",
      "\n",
      "Enter your guess: 42\n",
      "Congratulations! You've guessed the number 42 in 10 tries!\n"
     ]
    }
   ],
   "source": [
    "import random\n",
    "\n",
    "def guess_number():\n",
    "    print(\"Welcome to the Guess the Number Game!\")\n",
    "    print(\"I am thinking of a number between 1 and 200.\")\n",
    "    \n",
    "    number_to_guess = random.randint(1, 200)\n",
    "    \n",
    "    guess_count = 0\n",
    "    \n",
    "    while True:\n",
    "        try:\n",
    "            guess = int(input(\"\\nEnter your guess: \"))\n",
    "            guess_count += 1\n",
    "\n",
    "            if guess < number_to_guess:\n",
    "                print(\"Too low! Try again.\")\n",
    "            elif guess > number_to_guess:\n",
    "                print(\"Too high! Try again.\")\n",
    "            else:\n",
    "                print(f\"Congratulations! You've guessed the number {number_to_guess} in {guess_count} tries!\")\n",
    "                break\n",
    "        except ValueError:\n",
    "            print(\"Please enter a valid number.\")\n",
    "\n",
    "if __name__ == \"__main__\":\n",
    "    guess_number()\n"
   ]
  }
 ],
 "metadata": {
  "kernelspec": {
   "display_name": "Python 3 (ipykernel)",
   "language": "python",
   "name": "python3"
  },
  "language_info": {
   "codemirror_mode": {
    "name": "ipython",
    "version": 3
   },
   "file_extension": ".py",
   "mimetype": "text/x-python",
   "name": "python",
   "nbconvert_exporter": "python",
   "pygments_lexer": "ipython3",
   "version": "3.11.5"
  }
 },
 "nbformat": 4,
 "nbformat_minor": 5
}
